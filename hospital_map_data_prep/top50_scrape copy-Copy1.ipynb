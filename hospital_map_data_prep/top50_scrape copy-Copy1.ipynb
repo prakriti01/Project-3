{
 "cells": [
  {
   "cell_type": "code",
   "execution_count": 27,
   "metadata": {},
   "outputs": [],
   "source": [
    "from splinter import Browser\n",
    "from bs4 import BeautifulSoup as bs\n",
    "import re\n",
    "from selenium import webdriver\n",
    "import os\n",
    "from time import sleep"
   ]
  },
  {
   "cell_type": "code",
   "execution_count": 28,
   "metadata": {},
   "outputs": [
    {
     "name": "stdout",
     "output_type": "stream",
     "text": [
      "/usr/local/bin/chromedriver\n"
     ]
    }
   ],
   "source": [
    "!which chromedriver"
   ]
  },
  {
   "cell_type": "code",
   "execution_count": 29,
   "metadata": {},
   "outputs": [],
   "source": [
    "# Open browser, scroll to bottom, get the HTML\n",
    "browser = webdriver.Chrome()\n",
    "url = (\"https://health.usnews.com/best-hospitals/rankings/cancer\")\n",
    "browser.get(url)\n",
    "\n",
    "# Scroll to bottom of page w/ a pause - this causes all hospitals to load\n",
    "SCROLL_PAUSE_TIME = 4\n",
    "\n",
    "# Get scroll height\n",
    "last_height = browser.execute_script(\"return document.body.scrollHeight\")\n",
    "\n",
    "while True:\n",
    "    # Scroll down to bottom\n",
    "    browser.execute_script(\"window.scrollTo(0, document.body.scrollHeight);\")\n",
    "\n",
    "    # Wait to load page\n",
    "    sleep(SCROLL_PAUSE_TIME)\n",
    "\n",
    "    # Calculate new scroll height and compare with last scroll height\n",
    "    new_height = browser.execute_script(\"return document.body.scrollHeight\")\n",
    "    if new_height == last_height:\n",
    "        break\n",
    "    last_height = new_height\n",
    "\n",
    "\n",
    "html_source = browser.page_source\n",
    "browser.quit()\n",
    "\n",
    "# Create soup object using HTML source\n",
    "soup = bs(html_source, \"html5lib\")\n",
    "#print(soup)\n"
   ]
  },
  {
   "cell_type": "code",
   "execution_count": 48,
   "metadata": {},
   "outputs": [],
   "source": [
    "# Scrape the soup object to get the hospital names and remove whitespaces\n",
    "# and convert to upperscase\n",
    "\n",
    "zip_list = [77030, 10065, 55902, '02215', 44195, 21287, 98109, 33612, '94158', 19104, 85054, '02114', 60611, 94305, 63110, 48109, 90089, 52242, 27157, 43210, 91010, 90095, 15213, 29425, 10065, 19107, 80045, 97239, 44106, 32224,14263,21201, 60637, 55455, 27705, 95817, 27514, 40536, 37232, 22908, 90048, 66160, 53792, 10016, 92037, 46202, 10029, 84132, '02215', 60612]\n",
    "zip_list = [str(i) for i in zip_list]\n",
    "zip_list2 = ['10021', '02115', '94158', '90033', '10021', '27710', '22906', '10001', '84112']\n",
    "#for el in soup.find_all('div', class_= 'block-tight'):\n",
    "    \n",
    "#    top50_zip_list.append(el.get_text().strip().upper())\n",
    "                    \n",
    "#top50_zip_list\n",
    "\n",
    "    "
   ]
  },
  {
   "cell_type": "code",
   "execution_count": null,
   "metadata": {},
   "outputs": [],
   "source": []
  },
  {
   "cell_type": "code",
   "execution_count": 49,
   "metadata": {},
   "outputs": [],
   "source": [
    "import pandas as pd\n",
    "import requests\n",
    "import json\n",
    "import pprint\n",
    "from pandas.io.json import json_normalize\n",
    "from fuzzywuzzy import fuzz\n",
    "from tqdm import tqdm"
   ]
  },
  {
   "cell_type": "code",
   "execution_count": 50,
   "metadata": {},
   "outputs": [
    {
     "data": {
      "text/plain": [
       "<Response [200]>"
      ]
     },
     "execution_count": 50,
     "metadata": {},
     "output_type": "execute_result"
    }
   ],
   "source": [
    "# Base URL for the arcgis \n",
    "url = 'https://opendata.arcgis.com/datasets/a2817bf9632a43f5ad1c6b0c153b0fab_0.geojson'\n",
    "data = requests.get(url)\n",
    "data"
   ]
  },
  {
   "cell_type": "code",
   "execution_count": 1,
   "metadata": {},
   "outputs": [
    {
     "ename": "NameError",
     "evalue": "name 'data' is not defined",
     "output_type": "error",
     "traceback": [
      "\u001b[0;31m---------------------------------------------------------------------------\u001b[0m",
      "\u001b[0;31mNameError\u001b[0m                                 Traceback (most recent call last)",
      "\u001b[0;32m<ipython-input-1-e8dc5e065f48>\u001b[0m in \u001b[0;36m<module>\u001b[0;34m()\u001b[0m\n\u001b[0;32m----> 1\u001b[0;31m \u001b[0mhospitals_json\u001b[0m \u001b[0;34m=\u001b[0m \u001b[0mdata\u001b[0m\u001b[0;34m.\u001b[0m\u001b[0mjson\u001b[0m\u001b[0;34m(\u001b[0m\u001b[0;34m)\u001b[0m\u001b[0;34m\u001b[0m\u001b[0;34m\u001b[0m\u001b[0m\n\u001b[0m\u001b[1;32m      2\u001b[0m \u001b[0mhospitals_json\u001b[0m\u001b[0;34m[\u001b[0m\u001b[0;34m'features'\u001b[0m\u001b[0;34m]\u001b[0m\u001b[0;34m[\u001b[0m\u001b[0;36m0\u001b[0m\u001b[0;34m]\u001b[0m\u001b[0;34m[\u001b[0m\u001b[0;36m1\u001b[0m\u001b[0;34m]\u001b[0m\u001b[0;34m\u001b[0m\u001b[0;34m\u001b[0m\u001b[0m\n",
      "\u001b[0;31mNameError\u001b[0m: name 'data' is not defined"
     ]
    }
   ],
   "source": [
    "hospitals_json = data.json()\n",
    "hospitals_json['features'][0]"
   ]
  },
  {
   "cell_type": "code",
   "execution_count": 52,
   "metadata": {},
   "outputs": [
    {
     "name": "stdout",
     "output_type": "stream",
     "text": [
      "MEMORIAL HOSPITAL FOR CANCER AND ALLIED DISEASES 10021\n",
      "HOSPITAL FOR SPECIAL SURGERY 10021\n",
      "LENOX HILL HOSPITAL 10021\n",
      "GRACIE SQUARE HOSPITAL 10021\n",
      "ROCKEFELLER UNIVERSITY HOSPITAL 10021\n",
      "NEW YORK PRESBYTERIAN HOSPITAL - NEW YORK WEILL CORNELL CENTER 10021\n",
      "CHILDREN'S HOSPITAL BOSTON 02115\n",
      "BRIGHAM AND WOMEN'S HOSPITAL 02115\n",
      "DANA-FARBER CANCER INSTITUTE 02115\n",
      "UCSF MEDICAL CENTER AT MISSION BAY 94158\n",
      "LAC+USC MEDICAL CENTER 90033\n",
      "PROMISE HOSPITAL OF EAST LOS ANGELES-EAST L.A. CAMPUS 90033\n",
      "KECK HOSPITAL OF USC 90033\n",
      "USC KENNETH NORRIS, JR. CANCER HOSPITAL 90033\n",
      "WHITE MEMORIAL MEDICAL CENTER 90033\n",
      "MEMORIAL HOSPITAL FOR CANCER AND ALLIED DISEASES 10021\n",
      "HOSPITAL FOR SPECIAL SURGERY 10021\n",
      "LENOX HILL HOSPITAL 10021\n",
      "GRACIE SQUARE HOSPITAL 10021\n",
      "ROCKEFELLER UNIVERSITY HOSPITAL 10021\n",
      "NEW YORK PRESBYTERIAN HOSPITAL - NEW YORK WEILL CORNELL CENTER 10021\n",
      "DUKE UNIVERSITY HOSPITAL 27710\n",
      "UNIVERSITY OF VIRGINIA MEDICAL CENTER 22906\n",
      "MOUNT SINAI HOSPITAL 10001\n",
      "UNIVERSITY OF UTAH HOSPITAL 84112\n"
     ]
    }
   ],
   "source": [
    "#for hosp in top50_list:\n",
    "top50_json = []\n",
    "missing_json = []\n",
    "count = 0\n",
    "for i in range(len(zip_list2)): # tdqm allows loop tracking\n",
    "    for feature in hospitals_json['features']:\n",
    "        \n",
    "        if fuzz.ratio(feature['properties']['ZIP'], zip_list2[i]) == 100:\n",
    "            print(feature['properties']['NAME'], feature['properties']['ZIP'])\n",
    "            missing_json.append(feature['properties'])\n",
    "            count = count +1\n",
    "        \n"
   ]
  },
  {
   "cell_type": "code",
   "execution_count": null,
   "metadata": {},
   "outputs": [],
   "source": []
  },
  {
   "cell_type": "code",
   "execution_count": 53,
   "metadata": {},
   "outputs": [],
   "source": [
    "for item in top50_json:\n",
    "    pprint.pprint(item['NAME'])\n",
    "#len(top50_json)"
   ]
  },
  {
   "cell_type": "code",
   "execution_count": 54,
   "metadata": {},
   "outputs": [],
   "source": [
    "#with open('hospitals.json', 'w') as outfile:\n",
    "#    json.dump(top50_json, outfile, sort_keys=True, indent=4)\n",
    "    \n",
    "with open('missing_hospitals.json', 'w') as outfile:\n",
    "    json.dump(missing_json, outfile, sort_keys=True, indent=4)"
   ]
  },
  {
   "cell_type": "code",
   "execution_count": null,
   "metadata": {},
   "outputs": [],
   "source": []
  }
 ],
 "metadata": {
  "kernelspec": {
   "display_name": "Python 3",
   "language": "python",
   "name": "python3"
  },
  "language_info": {
   "codemirror_mode": {
    "name": "ipython",
    "version": 3
   },
   "file_extension": ".py",
   "mimetype": "text/x-python",
   "name": "python",
   "nbconvert_exporter": "python",
   "pygments_lexer": "ipython3",
   "version": "3.6.8"
  }
 },
 "nbformat": 4,
 "nbformat_minor": 2
}
