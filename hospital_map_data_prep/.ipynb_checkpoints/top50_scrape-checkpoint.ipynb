{
 "cells": [
  {
   "cell_type": "code",
   "execution_count": 55,
   "metadata": {},
   "outputs": [],
   "source": [
    "from splinter import Browser\n",
    "from bs4 import BeautifulSoup as bs\n",
    "import re\n",
    "import pandas as pd\n",
    "from selenium import webdriver\n",
    "import os\n",
    "from time import sleep"
   ]
  },
  {
   "cell_type": "code",
   "execution_count": 56,
   "metadata": {},
   "outputs": [
    {
     "name": "stdout",
     "output_type": "stream",
     "text": [
      "/usr/local/bin/chromedriver\n"
     ]
    }
   ],
   "source": [
    "!which chromedriver"
   ]
  },
  {
   "cell_type": "code",
   "execution_count": 82,
   "metadata": {},
   "outputs": [],
   "source": [
    "# Open browser, scroll to bottom, get the HTML\n",
    "browser = webdriver.Chrome()\n",
    "url = (\"https://www.ranker.com/list/u-s-news-best-hospitals-cancer/ceorick\")\n",
    "browser.get(url)\n",
    "\n",
    "# Scroll to bottom of page w/ a pause - this causes all hospitals to load\n",
    "SCROLL_PAUSE_TIME = 4\n",
    "\n",
    "# Get scroll height\n",
    "last_height = browser.execute_script(\"return document.body.scrollHeight\")\n",
    "\n",
    "while True:\n",
    "    # Scroll down to bottom\n",
    "    browser.execute_script(\"window.scrollTo(0, document.body.scrollHeight);\")\n",
    "\n",
    "    # Wait to load page\n",
    "    sleep(SCROLL_PAUSE_TIME)\n",
    "\n",
    "    # Calculate new scroll height and compare with last scroll height\n",
    "    new_height = browser.execute_script(\"return document.body.scrollHeight\")\n",
    "    if new_height == last_height:\n",
    "        break\n",
    "    last_height = new_height\n",
    "\n",
    "\n",
    "html_source = browser.page_source\n",
    "browser.quit()\n",
    "\n",
    "# Create soup object using HTML source\n",
    "soup = bs(html_source, \"html5lib\")\n",
    "#print(soup)\n"
   ]
  },
  {
   "cell_type": "code",
   "execution_count": 88,
   "metadata": {},
   "outputs": [
    {
     "name": "stdout",
     "output_type": "stream",
     "text": [
      "50\n"
     ]
    }
   ],
   "source": [
    "hospital_list = []\n",
    "\n",
    "tags = ['a', 'span']\n",
    "predicates = [\n",
    "    {'id' : re.compile('.*thumb.*')}, \n",
    "    {'class' : re.compile('.*thumb.*')},\n",
    "]\n",
    "\n",
    "#list_items = soup.find_all('div', {'class' : 'listItem__data'})\n",
    "\n",
    "\n",
    "    \n",
    "\n",
    "#for el in soup.find_all('div', {'class' : 'listItem__data'}):             #('span', {'class' : re.compile('^listItem__title.*')}):\n",
    "for title in soup.find_all(**{'class' : re.compile('^listItem__title.*')}):\n",
    "    hospital_list.append(title.get_text().strip())\n",
    "    \n",
    "#for h in hospital_list:\n",
    "#    sep = ','\n",
    "#    print(h.split(sep, 1)[0])\n",
    "    \n",
    "print(len(hospital_list))\n",
    "    "
   ]
  },
  {
   "cell_type": "code",
   "execution_count": null,
   "metadata": {},
   "outputs": [],
   "source": []
  }
 ],
 "metadata": {
  "kernelspec": {
   "display_name": "Python 3",
   "language": "python",
   "name": "python3"
  },
  "language_info": {
   "codemirror_mode": {
    "name": "ipython",
    "version": 3
   },
   "file_extension": ".py",
   "mimetype": "text/x-python",
   "name": "python",
   "nbconvert_exporter": "python",
   "pygments_lexer": "ipython3",
   "version": "3.6.8"
  }
 },
 "nbformat": 4,
 "nbformat_minor": 2
}
