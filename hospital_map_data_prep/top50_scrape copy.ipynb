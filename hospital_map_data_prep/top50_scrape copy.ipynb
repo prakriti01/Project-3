{
 "cells": [
  {
   "cell_type": "code",
   "execution_count": 30,
   "metadata": {},
   "outputs": [],
   "source": [
    "from splinter import Browser\n",
    "from bs4 import BeautifulSoup as bs\n",
    "import re\n",
    "from selenium import webdriver\n",
    "import os\n",
    "from time import sleep"
   ]
  },
  {
   "cell_type": "code",
   "execution_count": 31,
   "metadata": {},
   "outputs": [
    {
     "name": "stdout",
     "output_type": "stream",
     "text": [
      "/usr/local/bin/chromedriver\n"
     ]
    }
   ],
   "source": [
    "!which chromedriver"
   ]
  },
  {
   "cell_type": "code",
   "execution_count": 32,
   "metadata": {},
   "outputs": [],
   "source": [
    "# Open browser, scroll to bottom, get the HTML\n",
    "browser = webdriver.Chrome()\n",
    "url = (\"https://health.usnews.com/best-hospitals/rankings/cancer\")\n",
    "browser.get(url)\n",
    "\n",
    "# Scroll to bottom of page w/ a pause - this causes all hospitals to load\n",
    "SCROLL_PAUSE_TIME = 4\n",
    "\n",
    "# Get scroll height\n",
    "last_height = browser.execute_script(\"return document.body.scrollHeight\")\n",
    "\n",
    "while True:\n",
    "    # Scroll down to bottom\n",
    "    browser.execute_script(\"window.scrollTo(0, document.body.scrollHeight);\")\n",
    "\n",
    "    # Wait to load page\n",
    "    sleep(SCROLL_PAUSE_TIME)\n",
    "\n",
    "    # Calculate new scroll height and compare with last scroll height\n",
    "    new_height = browser.execute_script(\"return document.body.scrollHeight\")\n",
    "    if new_height == last_height:\n",
    "        break\n",
    "    last_height = new_height\n",
    "\n",
    "\n",
    "html_source = browser.page_source\n",
    "browser.quit()\n",
    "\n",
    "# Create soup object using HTML source\n",
    "soup = bs(html_source, \"html5lib\")\n",
    "#print(soup)\n"
   ]
  },
  {
   "cell_type": "code",
   "execution_count": 33,
   "metadata": {},
   "outputs": [
    {
     "data": {
      "text/plain": [
       "['UNIVERSITY OF TEXAS MD ANDERSON CANCER CENTER',\n",
       " 'MEMORIAL SLOAN-KETTERING CANCER CENTER',\n",
       " 'MAYO CLINIC',\n",
       " \"DANA-FARBER/BRIGHAM AND WOMEN'S CANCER CENTER\",\n",
       " 'CLEVELAND CLINIC',\n",
       " 'JOHNS HOPKINS HOSPITAL',\n",
       " 'SEATTLE CANCER ALLIANCE/UNIVERSITY OF WASHINGTON MEDICAL CENTER',\n",
       " 'H. LEE MOFFITT CANCER CENTER AND RESEARCH INSTITUTE',\n",
       " 'UCSF MEDICAL CENTER',\n",
       " 'HOSPITALS OF THE UNIVERSITY OF PENNSYLVANIA-PENN PRESBYTERIAN',\n",
       " 'MAYO CLINIC-PHOENIX',\n",
       " 'MASSACHUSETTS GENERAL HOSPITAL',\n",
       " 'NORTHWESTERN MEMORIAL HOSPITAL',\n",
       " 'STANFORD HEALTH CARE-STANFORD HOSPITAL',\n",
       " 'SITEMAN CANCER CENTER',\n",
       " 'UNIVERSITY OF MICHIGAN HOSPITALS-MICHIGAN MEDICINE',\n",
       " 'USC NORRIS CANCER HOSPITAL-KECK MEDICAL CENTER OF USC',\n",
       " 'UNIVERSITY OF IOWA HOSPITALS AND CLINICS',\n",
       " 'WAKE FOREST BAPTIST MEDICAL CENTER',\n",
       " 'OHIO STATE UNIVERSITY JAMES CANCER HOSPITAL',\n",
       " 'CITY OF HOPE HELFORD CLINICAL RESEARCH HOSPITAL',\n",
       " 'UCLA MEDICAL CENTER',\n",
       " 'UPMC PRESBYTERIAN SHADYSIDE',\n",
       " 'MUSC HEALTH-UNIVERSITY MEDICAL CENTER',\n",
       " 'NEW YORK-PRESBYTERIAN HOSPITAL-COLUMBIA AND CORNELL',\n",
       " 'JEFFERSON HEALTH-THOMAS JEFFERSON UNIVERSITY HOSPITALS',\n",
       " 'UCHEALTH UNIVERSITY OF COLORADO HOSPITAL',\n",
       " 'OHSU HOSPITAL',\n",
       " 'UNIVERSITY HOSPITALS SEIDMAN CANCER CENTER',\n",
       " 'MAYO CLINIC HOSPITAL IN FLORIDA',\n",
       " 'ROSWELL PARK COMPREHENSIVE CANCER CENTER',\n",
       " 'UNIVERSITY OF MARYLAND MEDICAL CENTER',\n",
       " 'UNIVERSITY OF CHICAGO MEDICAL CENTER',\n",
       " 'UNIVERSITY OF MINNESOTA MEDICAL CENTER',\n",
       " 'DUKE UNIVERSITY HOSPITAL',\n",
       " 'UC DAVIS MEDICAL CENTER',\n",
       " 'UNIVERSITY OF NORTH CAROLINA HOSPITALS',\n",
       " 'UNIVERSITY OF KENTUCKY ALBERT B. CHANDLER HOSPITAL',\n",
       " 'VANDERBILT UNIVERSITY MEDICAL CENTER',\n",
       " 'UNIVERSITY OF VIRGINIA MEDICAL CENTER',\n",
       " 'CEDARS-SINAI MEDICAL CENTER',\n",
       " 'UNIVERSITY OF KANSAS HOSPITAL',\n",
       " 'UNIVERSITY OF WISCONSIN HOSPITALS',\n",
       " 'NYU LANGONE HOSPITALS',\n",
       " 'UC SAN DIEGO HEALTH-MOORES CANCER CENTER',\n",
       " 'INDIANA UNIVERSITY HEALTH MEDICAL CENTER',\n",
       " 'MOUNT SINAI HOSPITAL',\n",
       " 'HUNTSMAN CANCER INSTITUTE AT THE UNIVERSITY OF UTAH',\n",
       " 'BETH ISRAEL DEACONESS MEDICAL CENTER',\n",
       " 'RUSH UNIVERSITY MEDICAL CENTER',\n",
       " 'UF HEALTH SHANDS HOSPITAL',\n",
       " 'UNIVERSITY OF MIAMI HOSPITAL AND CLINICS-SYLVESTER COMPREHENSIVE CANCER CENTER',\n",
       " 'BANNER UNIVERSITY MEDICAL CENTER TUCSON',\n",
       " 'HOUSTON METHODIST HOSPITAL',\n",
       " 'DARTMOUTH-HITCHCOCK MEDICAL CENTER',\n",
       " 'SMILOW CANCER HOSPITAL AT YALE NEW HAVEN',\n",
       " 'UT SOUTHWESTERN MEDICAL CENTER-ZALE LIPSHY UNIVERSITY HOSPITAL',\n",
       " 'FROEDTERT HOSPITAL AND THE MEDICAL COLLEGE OF WISCONSIN',\n",
       " 'PENN STATE HEALTH MILTON S. HERSHEY MEDICAL CENTER',\n",
       " 'UNIVERSITY OF ALABAMA AT BIRMINGHAM HOSPITAL']"
      ]
     },
     "execution_count": 33,
     "metadata": {},
     "output_type": "execute_result"
    }
   ],
   "source": [
    "# Scrape the soup object to get the hospital names and remove whitespaces\n",
    "# and convert to upperscase\n",
    "\n",
    "top50_list = []\n",
    "           \n",
    "for name in soup.find_all('h3', {'class' : 'block-flush heading-large'}):\n",
    "    top50_list.append(name.get_text().strip().upper())\n",
    "                      \n",
    "top50_list\n",
    "\n",
    "    "
   ]
  },
  {
   "cell_type": "code",
   "execution_count": null,
   "metadata": {},
   "outputs": [],
   "source": []
  },
  {
   "cell_type": "code",
   "execution_count": 2,
   "metadata": {},
   "outputs": [],
   "source": [
    "import pandas as pd\n",
    "import requests\n",
    "import json\n",
    "import pprint\n",
    "from pandas.io.json import json_normalize\n",
    "from fuzzywuzzy import fuzz\n",
    "from tqdm import tqdm"
   ]
  },
  {
   "cell_type": "code",
   "execution_count": 3,
   "metadata": {},
   "outputs": [
    {
     "data": {
      "text/plain": [
       "<Response [200]>"
      ]
     },
     "execution_count": 3,
     "metadata": {},
     "output_type": "execute_result"
    }
   ],
   "source": [
    "# Base URL for the arcgis \n",
    "url = 'https://opendata.arcgis.com/datasets/a2817bf9632a43f5ad1c6b0c153b0fab_0.geojson'\n",
    "data = requests.get(url)\n",
    "data"
   ]
  },
  {
   "cell_type": "code",
   "execution_count": 7,
   "metadata": {},
   "outputs": [
    {
     "data": {
      "text/plain": [
       "'FeatureCollection'"
      ]
     },
     "execution_count": 7,
     "metadata": {},
     "output_type": "execute_result"
    }
   ],
   "source": [
    "hospitals_json = data.json()\n",
    "hospitals_json['type']"
   ]
  },
  {
   "cell_type": "code",
   "execution_count": 37,
   "metadata": {},
   "outputs": [
    {
     "name": "stdout",
     "output_type": "stream",
     "text": [
      "UNIVERSITY OF TEXAS M.D. ANDERSON CANCER CENTER\n",
      "MAYO CLINIC\n",
      "MAYO CLINIC HOSPITAL METHODIST CAMPUS\n",
      "MAYO CLINIC HEALTH SYS AUSTIN\n",
      "MAYO CLINIC HEALTH SYSTEM IN WAYCROSS, INC\n",
      "MAYO CLINIC HLTH SYSTM FRANCISCAN HLTHCARE SPARTA\n",
      "MAYO CLINIC HEALTH SYSTEM - NORTHLAND IN BARRON\n",
      "MAYO CLINIC HEALTH SYSTEM- CHIPPEWA VALLEY  INC\n",
      "MAYO CLINIC HEALTH SYSTEM EAU CLAIRE HOSPITAL\n",
      "MAYO CLINIC HLTH SYSTEM- FRANCISCAN MED CTR\n",
      "MAYO CLINIC HEALTH SYSTEM - RED CEDAR INC\n",
      "MAYO CLINIC HEALTH SYSTEM-OAKRIDGE INC\n",
      "MAYO CLINIC HEALTH SYS ALBT LE\n",
      "MAYO CLINIC HEALTH SYS CF\n",
      "MAYO CLINIC HEALTH SYS FAIRMNT\n",
      "MAYO CLINIC HEALTH SYS MANKATO\n",
      "MAYO CLINIC HEALTH SYS ST JAME\n",
      "MAYO CLINIC HEALTH SYSTEM IN RED WING\n",
      "MAYO CLINIC HEALTH SYSTEM S F\n",
      "MAYO CLINIC ARIZONA\n",
      "MAYO CLINIC HOSPITAL ROCHESTER ST MARY'S CAMPUS\n",
      "MAYO CLINIC HEALTH SYS WASECA\n",
      "MAYO CLINIC HEALTH SYS CF\n",
      "MAYO CLINIC HEALTH SYS L C\n",
      "CLEVELAND CLINIC AVON HOSPITAL\n",
      "CLEVELAND CLINIC REHABILITATION HOSPITAL, LLC\n",
      "CLEVELAND CLINIC HOSPITAL\n",
      "CLEVELAND CLINIC CHILDREN'S HOSPITAL FOR REHAB\n",
      "CLEVELAND CLINIC\n",
      "JOHNS HOPKINS HOSPITAL\n",
      "SEATTLE CHILDREN'S HOSPITAL\n",
      "UNIVERSITY OF WASHINGTON MEDICAL CENTER\n",
      "SWEDISH MEDICAL CENTER - BALLARD CAMPUS\n",
      "UCSF MEDICAL CENTER\n",
      "UCSF MEDICAL CENTER AT MOUNT ZION\n",
      "UCSF MEDICAL CENTER AT MISSION BAY\n",
      "HOSPITAL OF THE UNIVERSITY OF PENNSYLVANIA\n",
      "MAYO CLINIC\n",
      "MASSACHUSETTS GENERAL HOSPITAL\n",
      "MEMORIAL HOSPITAL\n",
      "MEMORIAL HOSPITAL\n",
      "MEMORIAL HOSPITAL\n",
      "MEMORIAL HOSPITAL\n",
      "MEMORIAL HOSPITAL\n",
      "MEMORIAL HOSPITAL\n",
      "MEMORIAL HOSPITAL\n",
      "NORTHWESTERN MEMORIAL HOSPITAL\n",
      "MEMORIAL HOSPITAL\n",
      "MEMORIAL HOSPITAL\n",
      "MEMORIAL HOSPITAL\n",
      "MEMORIAL HOSPITAL\n",
      "MEMORIAL HOSPITAL\n",
      "STANFORD HOSPITAL\n",
      "BAPTIST MEDICAL CENTER\n",
      "MS BAPTIST MEDICAL CENTER\n",
      "CITY OF HOPE HELFORD CLINICAL RESEARCH HOSPITAL\n",
      "RONALD REAGAN UCLA MEDICAL CENTER\n",
      "LAC/HARBOR-UCLA MEDICAL CENTER\n",
      "LOS ANGELES COUNTY OLIVE VIEW-UCLA MEDICAL CENTER\n",
      "SANTA MONICA - UCLA MEDICAL CENTER & ORTHOPAEDIC HOSPITAL\n",
      "UPMC PRESBYTERIAN\n",
      "TENNOVA HEALTHCARE - LEBANON\n",
      "UNIVERSITY MEDICAL CENTER\n",
      "UNIVERSITY MEDICAL CENTER\n",
      "PRESBYTERIAN HOSPITAL\n",
      "UNIVERSITY HOSPITAL\n",
      "THOMAS JEFFERSON UNIVERSITY HOSPITAL\n",
      "OHSU HOSPITAL AND CLINICS\n",
      "UNIVERSITY HOSPITAL\n",
      "MAYO CLINIC\n",
      "UNIVERSITY OF MARYLAND MEDICAL CENTER\n",
      "THE UNIVERSITY OF CHICAGO MEDICAL CENTER\n",
      "UNIVERSITY OF MINNESOTA MEDICAL CENTER-FAIRVIEW-EAST BANK-ER\n",
      "UNIVERSITY HOSPITAL\n",
      "DUKE UNIVERSITY HOSPITAL\n",
      "ST LUKES UNIVERSITY HOSPITAL - BETHLEHEM\n",
      "DAVIS MEDICAL CENTER\n",
      "UNIVERSITY OF NORTH CAROLINA HOSPITALS\n",
      "TENNOVA HEALTHCARE - LEBANON\n",
      "UNIVERSITY MEDICAL CENTER\n",
      "UNIVERSITY MEDICAL CENTER\n",
      "UNIVERSITY OF VIRGINIA MEDICAL CENTER\n",
      "CEDARS SINAI MEDICAL CENTER\n",
      "UNIVERSITY OF KANSAS HOSPITAL\n",
      "INDIANA UNIVERSITY HEALTH\n",
      "MOUNT SINAI HOSPITAL\n",
      "MOUNT SINAI HOSPITAL - MOUNT SINAI HOSPITAL OF QUEENS\n",
      "BETH ISRAEL DEACONESS MEDICAL CENTER - EAST CAMPUS\n",
      "BETH ISRAEL DEACONESS MEDICAL CENTER - WEST CAMPUS\n",
      "DEACONESS MEDICAL CENTER\n",
      "SHRINERS HOSPITAL FOR CHILDREN\n",
      "TENNOVA HEALTHCARE - LEBANON\n",
      "UNIVERSITY MEDICAL CENTER\n",
      "RUSH UNIVERSITY MEDICAL CENTER\n",
      "UNIVERSITY MEDICAL CENTER\n",
      "SHANDS HOSPITAL\n",
      "UNIVERSITY OF MIAMI HOSPITAL AND CLINICS\n",
      "UNIVERSITY OF MIAMI HOSPITAL\n",
      "TENNOVA HEALTHCARE - LEBANON\n",
      "UNIVERSITY MEDICAL CENTER\n",
      "UNIVERSITY MEDICAL CENTER\n",
      "BANNER-UNIVERSITY MEDICAL CENTER TUCSON CAMPUS\n",
      "INDIANA UNIVERSITY HEALTH\n",
      "METHODIST HOSPITAL\n",
      "HOUSTON METHODIST HOSPTIAL\n",
      "METHODIST HOSPITAL\n",
      "METHODIST HOSPITAL\n",
      "SOUTHWESTERN MEDICAL CENTER\n",
      "UNIVERSITY HOSPITAL\n",
      "MILTON S HERSHEY MEDICAL CENTER\n"
     ]
    }
   ],
   "source": [
    "#for hosp in top50_list:\n",
    "top50_json = []\n",
    "count = 0\n",
    "for i in range(len(top50_list)): # tdqm allows loop tracking\n",
    "    for feature in hospitals_json['features']:\n",
    "        \n",
    "        if fuzz.partial_ratio(feature['properties']['NAME'], top50_list[i]) > 95 \\\n",
    "            or fuzz.partial_ratio(feature['properties']['ALT_NAME'], top50_list[i]) > 95:\n",
    "            #top50_json['features'].append(feature)\n",
    "            print(feature['properties']['NAME'])\n",
    "            top50_json.append(feature['properties'])\n",
    "            count = count +1\n",
    "        \n"
   ]
  },
  {
   "cell_type": "code",
   "execution_count": 104,
   "metadata": {},
   "outputs": [
    {
     "name": "stdout",
     "output_type": "stream",
     "text": [
      "'NOLAND HOSPITAL TUSCALOOSA, LLC'\n",
      "'VA MEDICAL CENTER - TUSCALOOSA'\n",
      "'MUSCOGEE (CREEK) NATION LONG TERM ACUTE CARE HOSPITAL'\n",
      "'MUSCOGEE (CREEK) NATION MEDICAL CENTER'\n",
      "'LAC+USC MEDICAL CENTER'\n",
      "'MUSCOGEE (CREEK) NATION PHYSICAL REHABILITATION CENTER'\n",
      "'KECK HOSPITAL OF USC'\n",
      "'USC KENNETH NORRIS, JR. CANCER HOSPITAL'\n",
      "'USC VERDUGO HILLS HOSPITAL'\n",
      "'TRINITY MUSCATINE'\n",
      "'MUSC MEDICAL CENTER'\n"
     ]
    }
   ],
   "source": [
    "zip = ''\n",
    "name = 'USC'\n",
    "addr = '1275 YORK AVENUE'\n",
    "city = 'SALT LAKE CITY'\n",
    "for feature in hospitals_json['features']:\n",
    "    #if fuzz.partial_ratio(feature['properties']['NAME'], name) > 95:\n",
    "    if fuzz.partial_ratio(feature['properties']['NAME'], name) >  95:\n",
    "    #if fuzz.partial_ratio(feature['properties']['ADDRESS'], addr) > 95:\n",
    "    #if fuzz.partial_ratio(feature['properties']['ZIP'], zip) == 100:\n",
    "        pprint.pprint(feature['properties']['NAME'])"
   ]
  },
  {
   "cell_type": "code",
   "execution_count": 54,
   "metadata": {},
   "outputs": [
    {
     "name": "stdout",
     "output_type": "stream",
     "text": [
      "'94158'\n"
     ]
    }
   ],
   "source": [
    "for item in top50_json:\n",
    "    if item['NAME'] == 'UCSF MEDICAL CENTER AT MISSION BAY':\n",
    "        pprint.pprint(item['ZIP'])\n",
    "#len(top50_json)"
   ]
  },
  {
   "cell_type": "code",
   "execution_count": 40,
   "metadata": {},
   "outputs": [],
   "source": [
    "with open('hospitals.json', 'w') as outfile:\n",
    "    json.dump(top50_json, outfile, sort_keys=True, indent=4)"
   ]
  },
  {
   "cell_type": "code",
   "execution_count": null,
   "metadata": {},
   "outputs": [],
   "source": []
  }
 ],
 "metadata": {
  "kernelspec": {
   "display_name": "Python 3",
   "language": "python",
   "name": "python3"
  },
  "language_info": {
   "codemirror_mode": {
    "name": "ipython",
    "version": 3
   },
   "file_extension": ".py",
   "mimetype": "text/x-python",
   "name": "python",
   "nbconvert_exporter": "python",
   "pygments_lexer": "ipython3",
   "version": "3.6.8"
  }
 },
 "nbformat": 4,
 "nbformat_minor": 2
}
