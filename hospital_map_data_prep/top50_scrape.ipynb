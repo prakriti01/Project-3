{
 "cells": [
  {
   "cell_type": "code",
   "execution_count": 1,
   "metadata": {},
   "outputs": [],
   "source": [
    "from splinter import Browser\n",
    "from bs4 import BeautifulSoup as bs\n",
    "import re\n",
    "from selenium import webdriver\n",
    "import os\n",
    "from time import sleep"
   ]
  },
  {
   "cell_type": "code",
   "execution_count": 2,
   "metadata": {},
   "outputs": [
    {
     "name": "stdout",
     "output_type": "stream",
     "text": [
      "/usr/local/bin/chromedriver\n"
     ]
    }
   ],
   "source": [
    "!which chromedriver"
   ]
  },
  {
   "cell_type": "code",
   "execution_count": 3,
   "metadata": {},
   "outputs": [],
   "source": [
    "# Open browser, scroll to bottom, get the HTML\n",
    "browser = webdriver.Chrome()\n",
    "url = (\"https://www.ranker.com/list/u-s-news-best-hospitals-cancer/ceorick\")\n",
    "browser.get(url)\n",
    "\n",
    "# Scroll to bottom of page w/ a pause - this causes all hospitals to load\n",
    "SCROLL_PAUSE_TIME = 4\n",
    "\n",
    "# Get scroll height\n",
    "last_height = browser.execute_script(\"return document.body.scrollHeight\")\n",
    "\n",
    "while True:\n",
    "    # Scroll down to bottom\n",
    "    browser.execute_script(\"window.scrollTo(0, document.body.scrollHeight);\")\n",
    "\n",
    "    # Wait to load page\n",
    "    sleep(SCROLL_PAUSE_TIME)\n",
    "\n",
    "    # Calculate new scroll height and compare with last scroll height\n",
    "    new_height = browser.execute_script(\"return document.body.scrollHeight\")\n",
    "    if new_height == last_height:\n",
    "        break\n",
    "    last_height = new_height\n",
    "\n",
    "\n",
    "html_source = browser.page_source\n",
    "browser.quit()\n",
    "\n",
    "# Create soup object using HTML source\n",
    "soup = bs(html_source, \"html5lib\")\n",
    "#print(soup)\n"
   ]
  },
  {
   "cell_type": "code",
   "execution_count": 4,
   "metadata": {},
   "outputs": [
    {
     "data": {
      "text/plain": [
       "['THE UNIVERSITY OF TEXAS M. D. ANDERSON CANCER CENTER',\n",
       " 'MEMORIAL SLOAN KETTERING CANCER CENTER',\n",
       " 'MAYO CLINIC',\n",
       " 'JOHNS HOPKINS HOSPITAL',\n",
       " 'UNIVERSITY OF WASHINGTON MEDICAL CENTER',\n",
       " 'DANA–FARBER CANCER INSTITUTE',\n",
       " 'MASSACHUSETTS GENERAL HOSPITAL',\n",
       " 'UNIVERSITY OF CALIFORNIA, SAN FRANCISCO MEDICAL CENTER',\n",
       " 'CLEVELAND CLINIC',\n",
       " 'RONALD REAGAN UCLA MEDICAL CENTER',\n",
       " 'STANFORD HOSPITAL AND CLINICS',\n",
       " 'DUKE UNIVERSITY HOSPITAL',\n",
       " 'UNIVERSITY OF MICHIGAN HOSPITALS AND HEALTH CENTERS',\n",
       " 'HOSPITAL OF THE UNIVERSITY OF PENNSYLVANIA',\n",
       " 'UNIVERSITY OF CHICAGO MEDICAL CENTER',\n",
       " \"BRIGHAM AND WOMEN'S HOSPITAL\",\n",
       " 'BARNES-JEWISH HOSPITAL/WASHINGTON UNIVERSITY',\n",
       " 'VANDERBILT UNIVERSITY MEDICAL CENTER',\n",
       " 'MOFFITT CANCER CENTER',\n",
       " 'CITY OF HOPE',\n",
       " 'UNIVERSITY OF MARYLAND MEDICAL CENTER',\n",
       " 'UNIVERSITY OF IOWA HOSPITALS AND CLINICS',\n",
       " 'YALE–NEW HAVEN HOSPITAL',\n",
       " 'NEW YORK-PRESBYTERIAN UNIVERSITY HOSPITAL OF COLUMBIA AND CORNELL',\n",
       " 'NYU LANGONE MEDICAL CENTER',\n",
       " 'OHIO STATE UNIVERSITY JAMES CANCER HOSPITAL',\n",
       " 'NORTHWESTERN MEMORIAL HOSPITAL',\n",
       " 'FOX CHASE CANCER CENTER',\n",
       " 'SHANDS AT THE UNIVERSITY OF FLORIDA',\n",
       " 'UNIVERSITY OF WISCONSIN HOSPITAL AND CLINICS',\n",
       " 'UPMC-UNIVERSITY OF PITTSBURGH MEDICAL CENTER',\n",
       " 'UNIVERSITY OF VIRGINIA MEDICAL CENTER',\n",
       " 'ROSWELL PARK CANCER INSTITUTE',\n",
       " 'UNIVERSITY HOSPITALS CASE MEDICAL CENTER',\n",
       " 'THOMAS JEFFERSON UNIVERSITY HOSPITAL',\n",
       " 'WAKE FOREST BAPTIST MEDICAL CENTER',\n",
       " 'UNIVERSITY OF MINNESOTA MEDICAL CENTER',\n",
       " 'VIRGINIA COMMONWEALTH UNIVERSITY MEDICAL CENTER',\n",
       " 'UNIVERSITY OF ALABAMA HOSPITAL AT BIRMINGHAM',\n",
       " 'CLARIAN HEALTH',\n",
       " 'EMORY UNIVERSITY HOSPITAL',\n",
       " 'MAGEE-WOMENS HOSPITAL OF UPMC',\n",
       " 'RUSH UNIVERSITY MEDICAL CENTER',\n",
       " 'UNIVERSITY OF COLORADO HOSPITAL',\n",
       " 'METHODIST HOSPITAL',\n",
       " 'BETH ISRAEL DEACONESS MEDICAL CENTER',\n",
       " 'UNIVERSITY OF NORTH CAROLINA HOSPITALS',\n",
       " 'MOUNT SINAI MEDICAL CENTER',\n",
       " 'CEDARS-SINAI MEDICAL CENTER',\n",
       " 'UNIVERSITY OF CALIFORNIA, DAVIS MEDICAL CENTER']"
      ]
     },
     "execution_count": 4,
     "metadata": {},
     "output_type": "execute_result"
    }
   ],
   "source": [
    "# Scrape the soup object to get the hospital names and remove whitespaces\n",
    "# and convert to upperscase\n",
    "\n",
    "top50_list = []\n",
    "           \n",
    "for title in soup.find_all(**{'class' : re.compile('^listItem__title.*')}):\n",
    "    top50_list.append(title.get_text().strip().upper())\n",
    "                      \n",
    "top50_list\n",
    "\n",
    "    "
   ]
  },
  {
   "cell_type": "code",
   "execution_count": null,
   "metadata": {},
   "outputs": [],
   "source": []
  },
  {
   "cell_type": "code",
   "execution_count": 5,
   "metadata": {},
   "outputs": [],
   "source": [
    "import pandas as pd\n",
    "import requests\n",
    "import json\n",
    "import pprint\n",
    "from pandas.io.json import json_normalize\n",
    "from fuzzywuzzy import fuzz\n",
    "from tqdm import tqdm"
   ]
  },
  {
   "cell_type": "code",
   "execution_count": 6,
   "metadata": {},
   "outputs": [
    {
     "data": {
      "text/plain": [
       "<Response [200]>"
      ]
     },
     "execution_count": 6,
     "metadata": {},
     "output_type": "execute_result"
    }
   ],
   "source": [
    "# Base URL for the arcgis \n",
    "url = 'https://opendata.arcgis.com/datasets/a2817bf9632a43f5ad1c6b0c153b0fab_0.geojson'\n",
    "data = requests.get(url)\n",
    "data"
   ]
  },
  {
   "cell_type": "code",
   "execution_count": 11,
   "metadata": {},
   "outputs": [
    {
     "data": {
      "text/plain": [
       "{'type': 'Feature',\n",
       " 'properties': {'OBJECTID': 14511,\n",
       "  'ID': '0012602537',\n",
       "  'NAME': 'SPAULDING REHABILITATION HOSPITAL CAPE COD',\n",
       "  'ADDRESS': '311 SERVICE ROAD',\n",
       "  'CITY': 'SANDWICH',\n",
       "  'STATE': 'MA',\n",
       "  'ZIP': '02537',\n",
       "  'ZIP4': 'NOT AVAILABLE',\n",
       "  'TELEPHONE': '(508) 833-4000',\n",
       "  'TYPE': 'REHABILITATION',\n",
       "  'STATUS': 'OPEN',\n",
       "  'POPULATION': 60,\n",
       "  'COUNTY': 'BARNSTABLE',\n",
       "  'COUNTYFIPS': '25001',\n",
       "  'COUNTRY': 'USA',\n",
       "  'LATITUDE': 41.7329844970001,\n",
       "  'LONGITUDE': -70.4681028369999,\n",
       "  'NAICS_CODE': '622310',\n",
       "  'NAICS_DESC': 'REHABILITATION HOSPITALS (EXCEPT ALCOHOLISM, DRUG ADDICTION)',\n",
       "  'SOURCE': 'http://www.mass.gov/eohhs/gov/departments/dph/programs/hcq/healthcare-quality/',\n",
       "  'SOURCEDATE': '2018-02-16T00:00:00.000Z',\n",
       "  'VAL_METHOD': 'IMAGERY WITH OTHER',\n",
       "  'VAL_DATE': '2018-03-19T00:00:00.000Z',\n",
       "  'WEBSITE': 'http://spauldingrehab.org/locations/sandwich-ma/',\n",
       "  'STATE_ID': '2FXY',\n",
       "  'ALT_NAME': 'NOT AVAILABLE',\n",
       "  'ST_FIPS': '25',\n",
       "  'OWNER': 'NON-PROFIT',\n",
       "  'TTL_STAFF': -999,\n",
       "  'BEDS': 60,\n",
       "  'TRAUMA': 'NOT AVAILABLE',\n",
       "  'HELIPAD': 'N'},\n",
       " 'geometry': {'type': 'Point',\n",
       "  'coordinates': [-70.46810283699995, 41.732984497000075]}}"
      ]
     },
     "execution_count": 11,
     "metadata": {},
     "output_type": "execute_result"
    }
   ],
   "source": [
    "hospitals_json = data.json()\n",
    "hospitals_json['features'][1]"
   ]
  },
  {
   "cell_type": "code",
   "execution_count": 66,
   "metadata": {},
   "outputs": [],
   "source": [
    "#for hosp in top50_list:\n",
    "top50_json = []\n",
    "count = 0\n",
    "for i in range(len(top50_list)): # tdqm allows loop tracking\n",
    "    for feature in hospitals_json['features']:\n",
    "        \n",
    "        if fuzz.partial_ratio(feature['properties']['NAME'], top50_list[i]) > 95 \\\n",
    "            or fuzz.partial_ratio(feature['properties']['ALT_NAME'], top50_list[i]) > 95:\n",
    "            #top50_json['features'].append(feature)\n",
    "            #print(feature['properties']['NAME'])\n",
    "            top50_json.append(feature['properties'])\n",
    "            count = count +1\n",
    "        \n"
   ]
  },
  {
   "cell_type": "code",
   "execution_count": 67,
   "metadata": {},
   "outputs": [
    {
     "name": "stdout",
     "output_type": "stream",
     "text": [
      "'UNIVERSITY OF TEXAS M.D. ANDERSON CANCER CENTER'\n",
      "'MAYO CLINIC'\n",
      "'MAYO CLINIC HOSPITAL METHODIST CAMPUS'\n",
      "'MAYO CLINIC HEALTH SYS AUSTIN'\n",
      "'MAYO CLINIC HEALTH SYSTEM IN WAYCROSS, INC'\n",
      "'MAYO CLINIC HLTH SYSTM FRANCISCAN HLTHCARE SPARTA'\n",
      "'MAYO CLINIC HEALTH SYSTEM - NORTHLAND IN BARRON'\n",
      "'MAYO CLINIC HEALTH SYSTEM- CHIPPEWA VALLEY  INC'\n",
      "'MAYO CLINIC HEALTH SYSTEM EAU CLAIRE HOSPITAL'\n",
      "'MAYO CLINIC HLTH SYSTEM- FRANCISCAN MED CTR'\n",
      "'MAYO CLINIC HEALTH SYSTEM - RED CEDAR INC'\n",
      "'MAYO CLINIC HEALTH SYSTEM-OAKRIDGE INC'\n",
      "'MAYO CLINIC HEALTH SYS ALBT LE'\n",
      "'MAYO CLINIC HEALTH SYS CF'\n",
      "'MAYO CLINIC HEALTH SYS FAIRMNT'\n",
      "'MAYO CLINIC HEALTH SYS MANKATO'\n",
      "'MAYO CLINIC HEALTH SYS ST JAME'\n",
      "'MAYO CLINIC HEALTH SYSTEM IN RED WING'\n",
      "'MAYO CLINIC HEALTH SYSTEM S F'\n",
      "'MAYO CLINIC ARIZONA'\n",
      "\"MAYO CLINIC HOSPITAL ROCHESTER ST MARY'S CAMPUS\"\n",
      "'MAYO CLINIC HEALTH SYS WASECA'\n",
      "'MAYO CLINIC HEALTH SYS CF'\n",
      "'MAYO CLINIC HEALTH SYS L C'\n",
      "'JOHNS HOPKINS HOSPITAL'\n",
      "\"SEATTLE CHILDREN'S HOSPITAL\"\n",
      "'UNIVERSITY OF WASHINGTON MEDICAL CENTER'\n",
      "'SWEDISH MEDICAL CENTER - BALLARD CAMPUS'\n",
      "'DANA-FARBER CANCER INSTITUTE'\n",
      "'MASSACHUSETTS GENERAL HOSPITAL'\n",
      "'CLEVELAND CLINIC AVON HOSPITAL'\n",
      "'CLEVELAND CLINIC REHABILITATION HOSPITAL, LLC'\n",
      "'CLEVELAND CLINIC HOSPITAL'\n",
      "\"CLEVELAND CLINIC CHILDREN'S HOSPITAL FOR REHAB\"\n",
      "'CLEVELAND CLINIC'\n",
      "'RONALD REAGAN UCLA MEDICAL CENTER'\n",
      "'STANFORD HOSPITAL'\n",
      "'UNIVERSITY HOSPITAL'\n",
      "'DUKE UNIVERSITY HOSPITAL'\n",
      "'ST LUKES UNIVERSITY HOSPITAL - BETHLEHEM'\n",
      "'HOSPITAL OF THE UNIVERSITY OF PENNSYLVANIA'\n",
      "'THE UNIVERSITY OF CHICAGO MEDICAL CENTER'\n",
      "\"WOMEN'S HOSPITAL\"\n",
      "\"BRIGHAM AND WOMEN'S HOSPITAL\"\n",
      "'BARNES-JEWISH HOSPITAL'\n",
      "'TENNOVA HEALTHCARE - LEBANON'\n",
      "'UNIVERSITY MEDICAL CENTER'\n",
      "'UNIVERSITY MEDICAL CENTER'\n",
      "'CITY OF HOPE HELFORD CLINICAL RESEARCH HOSPITAL'\n",
      "'UNIVERSITY OF MARYLAND MEDICAL CENTER'\n",
      "'YALE-NEW HAVEN HOSPITAL SAINT RAPHAEL CAMPUS'\n",
      "'YALE-NEW HAVEN HOSPITAL'\n",
      "'UNIVERSITY HOSPITAL'\n",
      "'MEMORIAL HOSPITAL'\n",
      "'MEMORIAL HOSPITAL'\n",
      "'MEMORIAL HOSPITAL'\n",
      "'MEMORIAL HOSPITAL'\n",
      "'MEMORIAL HOSPITAL'\n",
      "'MEMORIAL HOSPITAL'\n",
      "'MEMORIAL HOSPITAL'\n",
      "'NORTHWESTERN MEMORIAL HOSPITAL'\n",
      "'MEMORIAL HOSPITAL'\n",
      "'MEMORIAL HOSPITAL'\n",
      "'MEMORIAL HOSPITAL'\n",
      "'MEMORIAL HOSPITAL'\n",
      "'MEMORIAL HOSPITAL'\n",
      "'HOSPITAL OF FOX CHASE CANCER CENTER'\n",
      "'UNIVERSITY OF VIRGINIA MEDICAL CENTER'\n",
      "'ROSWELL PARK CANCER INSTITUTE'\n",
      "'UNIVERSITY HOSPITAL'\n",
      "'UNIVERSITY HOSPITAL'\n",
      "'THOMAS JEFFERSON UNIVERSITY HOSPITAL'\n",
      "'BAPTIST MEDICAL CENTER'\n",
      "'MS BAPTIST MEDICAL CENTER'\n",
      "'UNIVERSITY OF MINNESOTA MEDICAL CENTER-FAIRVIEW-EAST BANK-ER'\n",
      "'TENNOVA HEALTHCARE - LEBANON'\n",
      "'UNIVERSITY MEDICAL CENTER'\n",
      "'UNIVERSITY MEDICAL CENTER'\n",
      "'UNIVERSITY OF ALABAMA HOSPITAL'\n",
      "'UNIVERSITY HOSPITAL'\n",
      "'EMORY UNIVERSITY HOSPITAL MIDTOWN'\n",
      "'EMORY UNIVERSITY HOSPITAL'\n",
      "'MAGEE-WOMENS HOSPITAL OF UPMC'\n",
      "'TENNOVA HEALTHCARE - LEBANON'\n",
      "'UNIVERSITY MEDICAL CENTER'\n",
      "'RUSH UNIVERSITY MEDICAL CENTER'\n",
      "'UNIVERSITY MEDICAL CENTER'\n",
      "'UNIVERSITY OF COLORADO HOSPITAL ANSCHUTZ INPATIENT PAVILION'\n",
      "'INDIANA UNIVERSITY HEALTH'\n",
      "'METHODIST HOSPITALS INC'\n",
      "'METHODIST HOSPITAL-NORTH'\n",
      "'METHODIST HOSPITAL-SOUTH'\n",
      "'METHODIST HOSPITAL FOR SURGERY'\n",
      "'TEXAS HEALTH HARRIS METHODIST HOSPITAL AZLE'\n",
      "'TEXAS HEALTH HARRIS METHODIST HOSPITAL HURST-EULESS-BEDFORD'\n",
      "'TEXAS HEALTH HARRIS METHODIST HOSPITAL CLEBURNE'\n",
      "'TEXAS HEALTH HARRIS METHODIST HOSPITAL FORT WORTH'\n",
      "'TEXAS HEALTH HARRIS METHODIST HOSPITAL SOUTHWEST FORT WORTH'\n",
      "'METHODIST HOSPITAL'\n",
      "'TEXAS HEALTH HARRIS METHODIST HOSPITAL SOUTHLAKE'\n",
      "'TEXAS HEALTH HARRIS METHODIST HOSPITAL STEPHENVILLE'\n",
      "'TEXAS HEALTH HARRIS METHODIST HOSPITAL ALLIANCE'\n",
      "'NORTHEAST METHODIST HOSPITAL'\n",
      "'METROPOLITAN METHODIST HOSPITAL'\n",
      "'METHODIST HOSPITAL-SOUTHLAKE'\n",
      "\"ST. LUKE'S METHODIST HOSPITAL\"\n",
      "'NEW YORK METHODIST HOSPITAL'\n",
      "'METHODIST HOSPITAL UNION COUNTY'\n",
      "'METHODIST HOSPITAL'\n",
      "'METHODIST HOSPITAL OF CHICAGO'\n",
      "'METHODIST HOSPITAL SOUTH'\n",
      "'METHODIST HOSPITAL OF SOUTHERN CALIFORNIA'\n",
      "'METHODIST HOSPITAL OF SACRAMENTO'\n",
      "'BRONSON METHODIST HOSPITAL'\n",
      "'METHODIST HOSPITAL'\n",
      "'DUBLIN METHODIST HOSPITAL'\n",
      "'METHODIST HOSPITAL-ER'\n",
      "'RIVERSIDE METHODIST HOSPITAL'\n",
      "'BETH ISRAEL DEACONESS MEDICAL CENTER - EAST CAMPUS'\n",
      "'BETH ISRAEL DEACONESS MEDICAL CENTER - WEST CAMPUS'\n",
      "'DEACONESS MEDICAL CENTER'\n",
      "'SHRINERS HOSPITAL FOR CHILDREN'\n",
      "'UNIVERSITY OF NORTH CAROLINA HOSPITALS'\n",
      "'MOUNT SINAI MEDICAL CENTER'\n",
      "'CEDARS SINAI MEDICAL CENTER'\n",
      "'DAVIS MEDICAL CENTER'\n",
      "'UNIVERSITY OF CALIFORNIA DAVIS MEDICAL CENTER'\n"
     ]
    }
   ],
   "source": [
    "for item in top50_json:\n",
    "    pprint.pprint(item['NAME'])\n",
    "#len(top50_json)"
   ]
  },
  {
   "cell_type": "code",
   "execution_count": 69,
   "metadata": {},
   "outputs": [],
   "source": [
    "with open('hospitals.json', 'w') as outfile:\n",
    "    json.dump(top50_json, outfile, sort_keys=True, indent=4)"
   ]
  },
  {
   "cell_type": "code",
   "execution_count": null,
   "metadata": {},
   "outputs": [],
   "source": []
  }
 ],
 "metadata": {
  "kernelspec": {
   "display_name": "Python 3",
   "language": "python",
   "name": "python3"
  },
  "language_info": {
   "codemirror_mode": {
    "name": "ipython",
    "version": 3
   },
   "file_extension": ".py",
   "mimetype": "text/x-python",
   "name": "python",
   "nbconvert_exporter": "python",
   "pygments_lexer": "ipython3",
   "version": "3.6.8"
  }
 },
 "nbformat": 4,
 "nbformat_minor": 2
}
