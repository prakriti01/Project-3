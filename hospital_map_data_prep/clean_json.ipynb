{
 "cells": [
  {
   "cell_type": "code",
   "execution_count": 44,
   "metadata": {},
   "outputs": [],
   "source": [
    "import pandas as pd\n",
    "import requests\n",
    "import json\n",
    "import pprint\n",
    "from fuzzywuzzy import fuzz"
   ]
  },
  {
   "cell_type": "code",
   "execution_count": 71,
   "metadata": {},
   "outputs": [
    {
     "data": {
      "text/plain": [
       "51"
      ]
     },
     "execution_count": 71,
     "metadata": {},
     "output_type": "execute_result"
    }
   ],
   "source": [
    "id_list = []\n",
    "with open('hospitals.json') as json_file:\n",
    "    data = json.load(json_file)\n",
    "    for h in data:\n",
    "        id_list.append(h[\"OBJECTID\"])\n",
    "        \n",
    "id_list = [str(i) for i in id_list]\n",
    "len(id_list)"
   ]
  },
  {
   "cell_type": "code",
   "execution_count": 67,
   "metadata": {},
   "outputs": [
    {
     "data": {
      "text/plain": [
       "<Response [200]>"
      ]
     },
     "execution_count": 67,
     "metadata": {},
     "output_type": "execute_result"
    }
   ],
   "source": [
    "# Base URL for the arcgis \n",
    "url = 'https://opendata.arcgis.com/datasets/a2817bf9632a43f5ad1c6b0c153b0fab_0.geojson'\n",
    "data = requests.get(url)\n",
    "data"
   ]
  },
  {
   "cell_type": "code",
   "execution_count": 68,
   "metadata": {},
   "outputs": [
    {
     "data": {
      "text/plain": [
       "{'type': 'Feature',\n",
       " 'properties': {'OBJECTID': 14510,\n",
       "  'ID': '0010602129',\n",
       "  'NAME': 'SPAULDING REHABILITATION HOSPITAL',\n",
       "  'ADDRESS': '300 1ST AVE',\n",
       "  'CITY': 'BOSTON',\n",
       "  'STATE': 'MA',\n",
       "  'ZIP': '02129',\n",
       "  'ZIP4': 'NOT AVAILABLE',\n",
       "  'TELEPHONE': '(617) 573-7000',\n",
       "  'TYPE': 'REHABILITATION',\n",
       "  'STATUS': 'OPEN',\n",
       "  'POPULATION': 132,\n",
       "  'COUNTY': 'SUFFOLK',\n",
       "  'COUNTYFIPS': '25025',\n",
       "  'COUNTRY': 'USA',\n",
       "  'LATITUDE': 42.3785090760001,\n",
       "  'LONGITUDE': -71.049055546,\n",
       "  'NAICS_CODE': '622310',\n",
       "  'NAICS_DESC': 'REHABILITATION HOSPITALS (EXCEPT ALCOHOLISM, DRUG ADDICTION)',\n",
       "  'SOURCE': 'http://www.mass.gov/eohhs/gov/departments/dph/programs/hcq/healthcare-quality/',\n",
       "  'SOURCEDATE': '2018-02-16T00:00:00.000Z',\n",
       "  'VAL_METHOD': 'IMAGERY',\n",
       "  'VAL_DATE': '2018-03-19T00:00:00.000Z',\n",
       "  'WEBSITE': 'http://spauldingrehab.org/',\n",
       "  'STATE_ID': '2321',\n",
       "  'ALT_NAME': 'NOT AVAILABLE',\n",
       "  'ST_FIPS': '25',\n",
       "  'OWNER': 'NON-PROFIT',\n",
       "  'TTL_STAFF': -999,\n",
       "  'BEDS': 132,\n",
       "  'TRAUMA': 'NOT AVAILABLE',\n",
       "  'HELIPAD': 'NOT AVAILABLE'},\n",
       " 'geometry': {'type': 'Point',\n",
       "  'coordinates': [-71.04905554599998, 42.37850907600006]}}"
      ]
     },
     "execution_count": 68,
     "metadata": {},
     "output_type": "execute_result"
    }
   ],
   "source": [
    "hospitals_json = data.json()\n",
    "#hospitals_json['type']\n",
    "hospitals_json['features'][0]"
   ]
  },
  {
   "cell_type": "code",
   "execution_count": 79,
   "metadata": {},
   "outputs": [],
   "source": [
    "top50 = []\n",
    "\n",
    "for i in range(len(id_list)): # tdqm allows loop tracking\n",
    "    for feature in hospitals_json['features']:\n",
    "        if fuzz.ratio(str(feature['properties']['OBJECTID']), id_list[i]) == 100:\n",
    "            #top50_json['features'].append(feature)\n",
    "            top50.append(feature)\n",
    "        #top50.append(key)\n",
    "            "
   ]
  },
  {
   "cell_type": "code",
   "execution_count": 81,
   "metadata": {},
   "outputs": [],
   "source": [
    "with open('hosp_geo.json', 'w') as outfile:\n",
    "    json.dump(top50, outfile, sort_keys=True, indent=4)"
   ]
  },
  {
   "cell_type": "code",
   "execution_count": null,
   "metadata": {},
   "outputs": [],
   "source": []
  }
 ],
 "metadata": {
  "kernelspec": {
   "display_name": "Python 3",
   "language": "python",
   "name": "python3"
  },
  "language_info": {
   "codemirror_mode": {
    "name": "ipython",
    "version": 3
   },
   "file_extension": ".py",
   "mimetype": "text/x-python",
   "name": "python",
   "nbconvert_exporter": "python",
   "pygments_lexer": "ipython3",
   "version": "3.6.8"
  }
 },
 "nbformat": 4,
 "nbformat_minor": 2
}
